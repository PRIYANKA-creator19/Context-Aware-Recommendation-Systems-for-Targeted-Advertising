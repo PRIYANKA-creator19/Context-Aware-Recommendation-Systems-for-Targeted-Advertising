{
  "nbformat": 4,
  "nbformat_minor": 0,
  "metadata": {
    "colab": {
      "provenance": []
    },
    "kernelspec": {
      "name": "python3",
      "display_name": "Python 3"
    },
    "language_info": {
      "name": "python"
    }
  },
  "cells": [
    {
      "cell_type": "markdown",
      "source": [
        "Data Preparation\n"
      ],
      "metadata": {
        "id": "mjvOETgqLT9S"
      }
    },
    {
      "cell_type": "code",
      "execution_count": 2,
      "metadata": {
        "colab": {
          "base_uri": "https://localhost:8080/"
        },
        "id": "zkE7N95MI1sM",
        "outputId": "dcc16503-484b-4342-aeab-9a8d6bcbe775"
      },
      "outputs": [
        {
          "output_type": "stream",
          "name": "stdout",
          "text": [
            "   Daily Time Spent on Site  Age  Area Income  Daily Internet Usage  \\\n",
            "0                     68.95   35     61833.90                256.09   \n",
            "1                     80.23   31     68441.85                193.77   \n",
            "2                     69.47   26     59785.94                236.50   \n",
            "3                     74.15   29     54806.18                245.89   \n",
            "4                     68.37   35     73889.99                225.58   \n",
            "\n",
            "                           Ad Topic Line            City  Male     Country  \\\n",
            "0     Cloned 5thgeneration orchestration     Wrightburgh     0     Tunisia   \n",
            "1     Monitored national standardization       West Jodi     1       Nauru   \n",
            "2       Organic bottom-line service-desk        Davidton     0  San Marino   \n",
            "3  Triple-buffered reciprocal time-frame  West Terrifurt     1       Italy   \n",
            "4          Robust logistical utilization    South Manuel     0     Iceland   \n",
            "\n",
            "            Timestamp  Clicked on Ad  \n",
            "0 2016-03-27 00:53:11              0  \n",
            "1 2016-04-04 01:39:02              0  \n",
            "2 2016-03-13 20:35:42              0  \n",
            "3 2016-01-10 02:31:19              0  \n",
            "4 2016-06-03 03:36:18              0  \n"
          ]
        }
      ],
      "source": [
        "import pandas as pd\n",
        "from datetime import datetime\n",
        "\n",
        "# Load the dataset from CSV file\n",
        "df = pd.read_csv('/content/advertising.csv')\n",
        "\n",
        "# Convert Timestamp to datetime\n",
        "df['Timestamp'] = pd.to_datetime(df['Timestamp'])\n",
        "\n",
        "# Display the DataFrame\n",
        "print(df.head())\n"
      ]
    },
    {
      "cell_type": "markdown",
      "source": [
        "Feature Engineering"
      ],
      "metadata": {
        "id": "xVKi-_9MLfXm"
      }
    },
    {
      "cell_type": "code",
      "source": [
        "from sklearn.preprocessing import LabelEncoder\n",
        "\n",
        "# Encode categorical features\n",
        "label_encoder = LabelEncoder()\n",
        "\n",
        "df['Ad Topic Line'] = label_encoder.fit_transform(df['Ad Topic Line'])\n",
        "df['City'] = label_encoder.fit_transform(df['City'])\n",
        "df['Country'] = label_encoder.fit_transform(df['Country'])\n",
        "\n",
        "# Extract additional time-based features\n",
        "df['Hour'] = df['Timestamp'].dt.hour\n",
        "df['Day'] = df['Timestamp'].dt.day\n",
        "df['Month'] = df['Timestamp'].dt.month\n",
        "\n",
        "# Drop the original Timestamp column\n",
        "df.drop('Timestamp', axis=1, inplace=True)\n",
        "\n",
        "# Display the modified DataFrame\n",
        "print(df.head())\n"
      ],
      "metadata": {
        "colab": {
          "base_uri": "https://localhost:8080/"
        },
        "id": "qPXU53_fLaUw",
        "outputId": "fd7ec6e1-6928-465d-b34f-c25b68601084"
      },
      "execution_count": 3,
      "outputs": [
        {
          "output_type": "stream",
          "name": "stdout",
          "text": [
            "   Daily Time Spent on Site  Age  Area Income  Daily Internet Usage  \\\n",
            "0                     68.95   35     61833.90                256.09   \n",
            "1                     80.23   31     68441.85                193.77   \n",
            "2                     69.47   26     59785.94                236.50   \n",
            "3                     74.15   29     54806.18                245.89   \n",
            "4                     68.37   35     73889.99                225.58   \n",
            "\n",
            "   Ad Topic Line  City  Male  Country  Clicked on Ad  Hour  Day  Month  \n",
            "0             91   961     0      215              0     0   27      3  \n",
            "1            464   903     1      147              0     1    4      4  \n",
            "2            566   111     0      184              0    20   13      3  \n",
            "3            903   939     1      103              0     2   10      1  \n",
            "4            766   805     0       96              0     3    3      6  \n"
          ]
        }
      ]
    },
    {
      "cell_type": "markdown",
      "source": [
        "CLAASIFICATION MODULE\n",
        "\n",
        "Model -1 [Logistic regression]"
      ],
      "metadata": {
        "id": "f48omAG_Np-f"
      }
    },
    {
      "cell_type": "code",
      "source": [
        "from sklearn.model_selection import train_test_split\n",
        "from sklearn.preprocessing import StandardScaler\n",
        "from sklearn.linear_model import LogisticRegression\n",
        "from sklearn.ensemble import RandomForestClassifier, GradientBoostingClassifier\n",
        "from sklearn.metrics import accuracy_score\n",
        "\n",
        "# Split the data into features and target\n",
        "X = df.drop('Clicked on Ad', axis=1)\n",
        "y = df['Clicked on Ad']\n",
        "\n",
        "# Split the data into training and testing sets\n",
        "X_train, X_test, y_train, y_test = train_test_split(X, y, test_size=0.2, random_state=42)\n",
        "\n",
        "# Scale the features\n",
        "scaler = StandardScaler()\n",
        "X_train_scaled = scaler.fit_transform(X_train)\n",
        "X_test_scaled = scaler.transform(X_test)\n"
      ],
      "metadata": {
        "id": "iErZ4YNeNpqY"
      },
      "execution_count": 4,
      "outputs": []
    },
    {
      "cell_type": "code",
      "source": [
        "# Train Logistic Regression model\n",
        "logistic_regression_model = LogisticRegression()\n",
        "logistic_regression_model.fit(X_train_scaled, y_train)\n",
        "\n",
        "# Evaluate the model\n",
        "y_pred_lr = logistic_regression_model.predict(X_test_scaled)\n",
        "accuracy_lr = accuracy_score(y_test, y_pred_lr)\n",
        "print(f'Logistic Regression Test Accuracy: {accuracy_lr:.4f}')\n"
      ],
      "metadata": {
        "colab": {
          "base_uri": "https://localhost:8080/"
        },
        "id": "0SZ5AFc8N136",
        "outputId": "f7cb0d21-7c58-42c9-ae51-64c133b321d0"
      },
      "execution_count": 5,
      "outputs": [
        {
          "output_type": "stream",
          "name": "stdout",
          "text": [
            "Logistic Regression Test Accuracy: 0.9500\n"
          ]
        }
      ]
    },
    {
      "cell_type": "markdown",
      "source": [
        "MODEL 3 [ Gradient Boosting Model]"
      ],
      "metadata": {
        "id": "uT3UPEpEOOPK"
      }
    },
    {
      "cell_type": "code",
      "source": [
        "# Train Gradient Boosting model\n",
        "gradient_boosting_model = GradientBoostingClassifier()\n",
        "gradient_boosting_model.fit(X_train_scaled, y_train)\n",
        "\n",
        "# Evaluate the model\n",
        "y_pred_gb = gradient_boosting_model.predict(X_test_scaled)\n",
        "accuracy_gb = accuracy_score(y_test, y_pred_gb)\n",
        "print(f'Gradient Boosting Test Accuracy: {accuracy_gb:.4f}')\n",
        "\n"
      ],
      "metadata": {
        "colab": {
          "base_uri": "https://localhost:8080/"
        },
        "id": "pSMMbIDsOQJ7",
        "outputId": "3d15d459-fc1e-47f9-cd1f-7119e669a639"
      },
      "execution_count": 6,
      "outputs": [
        {
          "output_type": "stream",
          "name": "stdout",
          "text": [
            "Gradient Boosting Test Accuracy: 0.9350\n"
          ]
        }
      ]
    },
    {
      "cell_type": "markdown",
      "source": [
        "MODEL BUILDING\n",
        "\n",
        "\n",
        "MODEL -4 NEURAL NETWORK"
      ],
      "metadata": {
        "id": "yIBfAjn9Lie6"
      }
    },
    {
      "cell_type": "code",
      "source": [
        "from sklearn.model_selection import train_test_split\n",
        "from sklearn.preprocessing import StandardScaler\n",
        "import tensorflow as tf\n",
        "from tensorflow.keras.models import Sequential\n",
        "from tensorflow.keras.layers import Dense, Dropout\n",
        "\n",
        "# Split the data into features and target\n",
        "X = df.drop('Clicked on Ad', axis=1)\n",
        "y = df['Clicked on Ad']\n",
        "\n",
        "# Split the data into training and testing sets\n",
        "X_train, X_test, y_train, y_test = train_test_split(X, y, test_size=0.2, random_state=42)\n",
        "\n",
        "# Scale the features\n",
        "scaler = StandardScaler()\n",
        "X_train_scaled = scaler.fit_transform(X_train)\n",
        "X_test_scaled = scaler.transform(X_test)\n",
        "\n",
        "# Build the neural network model\n",
        "model = Sequential()\n",
        "model.add(Dense(64, input_dim=X_train_scaled.shape[1], activation='relu'))\n",
        "model.add(Dropout(0.5))\n",
        "model.add(Dense(32, activation='relu'))\n",
        "model.add(Dropout(0.5))\n",
        "model.add(Dense(1, activation='sigmoid'))\n",
        "\n",
        "# Compile the model\n",
        "model.compile(optimizer='adam', loss='binary_crossentropy', metrics=['accuracy'])\n",
        "\n",
        "# Display the model summary\n",
        "model.summary()"
      ],
      "metadata": {
        "colab": {
          "base_uri": "https://localhost:8080/"
        },
        "id": "gxPQ50izQe3c",
        "outputId": "4fa4fc7a-fac8-4d5f-c6ac-58fc9ac7f118"
      },
      "execution_count": 7,
      "outputs": [
        {
          "output_type": "stream",
          "name": "stdout",
          "text": [
            "Model: \"sequential\"\n",
            "_________________________________________________________________\n",
            " Layer (type)                Output Shape              Param #   \n",
            "=================================================================\n",
            " dense (Dense)               (None, 64)                768       \n",
            "                                                                 \n",
            " dropout (Dropout)           (None, 64)                0         \n",
            "                                                                 \n",
            " dense_1 (Dense)             (None, 32)                2080      \n",
            "                                                                 \n",
            " dropout_1 (Dropout)         (None, 32)                0         \n",
            "                                                                 \n",
            " dense_2 (Dense)             (None, 1)                 33        \n",
            "                                                                 \n",
            "=================================================================\n",
            "Total params: 2881 (11.25 KB)\n",
            "Trainable params: 2881 (11.25 KB)\n",
            "Non-trainable params: 0 (0.00 Byte)\n",
            "_________________________________________________________________\n"
          ]
        }
      ]
    },
    {
      "cell_type": "code",
      "source": [
        "# Train the model\n",
        "history = model.fit(X_train_scaled, y_train, epochs=50, batch_size=32, validation_split=0.2)"
      ],
      "metadata": {
        "colab": {
          "base_uri": "https://localhost:8080/"
        },
        "id": "xSVV7R8xQtz0",
        "outputId": "f76e001a-ae39-451f-d262-f888f2d8369c"
      },
      "execution_count": 8,
      "outputs": [
        {
          "output_type": "stream",
          "name": "stdout",
          "text": [
            "Epoch 1/50\n",
            "20/20 [==============================] - 1s 16ms/step - loss: 0.7389 - accuracy: 0.5609 - val_loss: 0.5903 - val_accuracy: 0.7875\n",
            "Epoch 2/50\n",
            "20/20 [==============================] - 0s 5ms/step - loss: 0.5900 - accuracy: 0.6938 - val_loss: 0.4756 - val_accuracy: 0.9250\n",
            "Epoch 3/50\n",
            "20/20 [==============================] - 0s 3ms/step - loss: 0.4926 - accuracy: 0.7844 - val_loss: 0.3774 - val_accuracy: 0.9500\n",
            "Epoch 4/50\n",
            "20/20 [==============================] - 0s 4ms/step - loss: 0.3939 - accuracy: 0.8750 - val_loss: 0.2868 - val_accuracy: 0.9625\n",
            "Epoch 5/50\n",
            "20/20 [==============================] - 0s 4ms/step - loss: 0.3180 - accuracy: 0.9094 - val_loss: 0.2149 - val_accuracy: 0.9750\n",
            "Epoch 6/50\n",
            "20/20 [==============================] - 0s 4ms/step - loss: 0.2666 - accuracy: 0.9125 - val_loss: 0.1669 - val_accuracy: 0.9750\n",
            "Epoch 7/50\n",
            "20/20 [==============================] - 0s 6ms/step - loss: 0.2088 - accuracy: 0.9469 - val_loss: 0.1362 - val_accuracy: 0.9812\n",
            "Epoch 8/50\n",
            "20/20 [==============================] - 0s 5ms/step - loss: 0.2020 - accuracy: 0.9344 - val_loss: 0.1190 - val_accuracy: 0.9812\n",
            "Epoch 9/50\n",
            "20/20 [==============================] - 0s 5ms/step - loss: 0.1756 - accuracy: 0.9578 - val_loss: 0.1082 - val_accuracy: 0.9812\n",
            "Epoch 10/50\n",
            "20/20 [==============================] - 0s 6ms/step - loss: 0.1475 - accuracy: 0.9469 - val_loss: 0.1011 - val_accuracy: 0.9812\n",
            "Epoch 11/50\n",
            "20/20 [==============================] - 0s 5ms/step - loss: 0.1597 - accuracy: 0.9453 - val_loss: 0.0968 - val_accuracy: 0.9875\n",
            "Epoch 12/50\n",
            "20/20 [==============================] - 0s 4ms/step - loss: 0.1336 - accuracy: 0.9703 - val_loss: 0.0947 - val_accuracy: 0.9812\n",
            "Epoch 13/50\n",
            "20/20 [==============================] - 0s 4ms/step - loss: 0.1063 - accuracy: 0.9625 - val_loss: 0.0940 - val_accuracy: 0.9812\n",
            "Epoch 14/50\n",
            "20/20 [==============================] - 0s 4ms/step - loss: 0.1121 - accuracy: 0.9688 - val_loss: 0.0923 - val_accuracy: 0.9812\n",
            "Epoch 15/50\n",
            "20/20 [==============================] - 0s 4ms/step - loss: 0.1300 - accuracy: 0.9516 - val_loss: 0.0936 - val_accuracy: 0.9812\n",
            "Epoch 16/50\n",
            "20/20 [==============================] - 0s 3ms/step - loss: 0.1186 - accuracy: 0.9656 - val_loss: 0.0932 - val_accuracy: 0.9812\n",
            "Epoch 17/50\n",
            "20/20 [==============================] - 0s 4ms/step - loss: 0.1063 - accuracy: 0.9609 - val_loss: 0.0935 - val_accuracy: 0.9812\n",
            "Epoch 18/50\n",
            "20/20 [==============================] - 0s 3ms/step - loss: 0.1191 - accuracy: 0.9672 - val_loss: 0.0951 - val_accuracy: 0.9812\n",
            "Epoch 19/50\n",
            "20/20 [==============================] - 0s 5ms/step - loss: 0.1101 - accuracy: 0.9656 - val_loss: 0.0968 - val_accuracy: 0.9812\n",
            "Epoch 20/50\n",
            "20/20 [==============================] - 0s 4ms/step - loss: 0.0775 - accuracy: 0.9797 - val_loss: 0.0986 - val_accuracy: 0.9812\n",
            "Epoch 21/50\n",
            "20/20 [==============================] - 0s 6ms/step - loss: 0.0697 - accuracy: 0.9797 - val_loss: 0.0981 - val_accuracy: 0.9812\n",
            "Epoch 22/50\n",
            "20/20 [==============================] - 0s 5ms/step - loss: 0.1045 - accuracy: 0.9672 - val_loss: 0.0984 - val_accuracy: 0.9812\n",
            "Epoch 23/50\n",
            "20/20 [==============================] - 0s 5ms/step - loss: 0.1123 - accuracy: 0.9672 - val_loss: 0.0985 - val_accuracy: 0.9812\n",
            "Epoch 24/50\n",
            "20/20 [==============================] - 0s 4ms/step - loss: 0.0812 - accuracy: 0.9812 - val_loss: 0.0979 - val_accuracy: 0.9812\n",
            "Epoch 25/50\n",
            "20/20 [==============================] - 0s 4ms/step - loss: 0.0992 - accuracy: 0.9688 - val_loss: 0.0980 - val_accuracy: 0.9812\n",
            "Epoch 26/50\n",
            "20/20 [==============================] - 0s 3ms/step - loss: 0.0891 - accuracy: 0.9719 - val_loss: 0.0985 - val_accuracy: 0.9812\n",
            "Epoch 27/50\n",
            "20/20 [==============================] - 0s 4ms/step - loss: 0.0748 - accuracy: 0.9781 - val_loss: 0.1013 - val_accuracy: 0.9812\n",
            "Epoch 28/50\n",
            "20/20 [==============================] - 0s 4ms/step - loss: 0.0835 - accuracy: 0.9766 - val_loss: 0.1020 - val_accuracy: 0.9812\n",
            "Epoch 29/50\n",
            "20/20 [==============================] - 0s 4ms/step - loss: 0.0771 - accuracy: 0.9750 - val_loss: 0.1027 - val_accuracy: 0.9812\n",
            "Epoch 30/50\n",
            "20/20 [==============================] - 0s 3ms/step - loss: 0.0997 - accuracy: 0.9703 - val_loss: 0.1037 - val_accuracy: 0.9812\n",
            "Epoch 31/50\n",
            "20/20 [==============================] - 0s 5ms/step - loss: 0.0839 - accuracy: 0.9766 - val_loss: 0.1027 - val_accuracy: 0.9812\n",
            "Epoch 32/50\n",
            "20/20 [==============================] - 0s 4ms/step - loss: 0.0867 - accuracy: 0.9750 - val_loss: 0.1029 - val_accuracy: 0.9812\n",
            "Epoch 33/50\n",
            "20/20 [==============================] - 0s 4ms/step - loss: 0.0646 - accuracy: 0.9766 - val_loss: 0.1034 - val_accuracy: 0.9812\n",
            "Epoch 34/50\n",
            "20/20 [==============================] - 0s 5ms/step - loss: 0.0893 - accuracy: 0.9672 - val_loss: 0.1038 - val_accuracy: 0.9812\n",
            "Epoch 35/50\n",
            "20/20 [==============================] - 0s 4ms/step - loss: 0.0876 - accuracy: 0.9781 - val_loss: 0.1040 - val_accuracy: 0.9750\n",
            "Epoch 36/50\n",
            "20/20 [==============================] - 0s 4ms/step - loss: 0.0780 - accuracy: 0.9734 - val_loss: 0.1046 - val_accuracy: 0.9750\n",
            "Epoch 37/50\n",
            "20/20 [==============================] - 0s 4ms/step - loss: 0.0618 - accuracy: 0.9766 - val_loss: 0.1062 - val_accuracy: 0.9750\n",
            "Epoch 38/50\n",
            "20/20 [==============================] - 0s 3ms/step - loss: 0.0703 - accuracy: 0.9781 - val_loss: 0.1077 - val_accuracy: 0.9812\n",
            "Epoch 39/50\n",
            "20/20 [==============================] - 0s 4ms/step - loss: 0.0687 - accuracy: 0.9766 - val_loss: 0.1079 - val_accuracy: 0.9812\n",
            "Epoch 40/50\n",
            "20/20 [==============================] - 0s 4ms/step - loss: 0.0793 - accuracy: 0.9734 - val_loss: 0.1054 - val_accuracy: 0.9812\n",
            "Epoch 41/50\n",
            "20/20 [==============================] - 0s 4ms/step - loss: 0.0618 - accuracy: 0.9859 - val_loss: 0.1056 - val_accuracy: 0.9812\n",
            "Epoch 42/50\n",
            "20/20 [==============================] - 0s 4ms/step - loss: 0.0676 - accuracy: 0.9797 - val_loss: 0.1061 - val_accuracy: 0.9812\n",
            "Epoch 43/50\n",
            "20/20 [==============================] - 0s 5ms/step - loss: 0.0729 - accuracy: 0.9781 - val_loss: 0.1074 - val_accuracy: 0.9812\n",
            "Epoch 44/50\n",
            "20/20 [==============================] - 0s 5ms/step - loss: 0.0733 - accuracy: 0.9797 - val_loss: 0.1075 - val_accuracy: 0.9812\n",
            "Epoch 45/50\n",
            "20/20 [==============================] - 0s 4ms/step - loss: 0.0634 - accuracy: 0.9797 - val_loss: 0.1090 - val_accuracy: 0.9812\n",
            "Epoch 46/50\n",
            "20/20 [==============================] - 0s 4ms/step - loss: 0.0641 - accuracy: 0.9812 - val_loss: 0.1099 - val_accuracy: 0.9812\n",
            "Epoch 47/50\n",
            "20/20 [==============================] - 0s 4ms/step - loss: 0.0679 - accuracy: 0.9828 - val_loss: 0.1102 - val_accuracy: 0.9812\n",
            "Epoch 48/50\n",
            "20/20 [==============================] - 0s 4ms/step - loss: 0.0560 - accuracy: 0.9859 - val_loss: 0.1110 - val_accuracy: 0.9812\n",
            "Epoch 49/50\n",
            "20/20 [==============================] - 0s 5ms/step - loss: 0.0594 - accuracy: 0.9828 - val_loss: 0.1129 - val_accuracy: 0.9812\n",
            "Epoch 50/50\n",
            "20/20 [==============================] - 0s 3ms/step - loss: 0.0570 - accuracy: 0.9844 - val_loss: 0.1146 - val_accuracy: 0.9812\n"
          ]
        }
      ]
    },
    {
      "cell_type": "code",
      "source": [
        "# Evaluate the model\n",
        "loss, accuracy = model.evaluate(X_test_scaled, y_test)\n",
        "print(f'Test Accuracy: {accuracy:.4f}')\n"
      ],
      "metadata": {
        "colab": {
          "base_uri": "https://localhost:8080/"
        },
        "id": "6aJiGEnkRCdO",
        "outputId": "7fa01544-ba4b-44eb-e8ac-4ddab6915861"
      },
      "execution_count": 9,
      "outputs": [
        {
          "output_type": "stream",
          "name": "stdout",
          "text": [
            "7/7 [==============================] - 0s 2ms/step - loss: 0.2577 - accuracy: 0.9400\n",
            "Test Accuracy: 0.9400\n"
          ]
        }
      ]
    },
    {
      "cell_type": "code",
      "source": [
        "# Make predictions on new data\n",
        "new_data = [[70, 28, 60000, 240, 3, 5, 1, 100, 14, 2, 7]]  # Example new data point\n",
        "new_data_scaled = scaler.transform(new_data)\n",
        "prediction = model.predict(new_data_scaled)\n",
        "print(f'Prediction: {\"Clicked on Ad\" if prediction[0][0] > 0.5 else \"Did not Click on Ad\"}')"
      ],
      "metadata": {
        "colab": {
          "base_uri": "https://localhost:8080/"
        },
        "id": "bvXKIfN9RHS7",
        "outputId": "be8914f5-b7d1-4d5b-88e6-fe13b23dd689"
      },
      "execution_count": 10,
      "outputs": [
        {
          "output_type": "stream",
          "name": "stdout",
          "text": [
            "1/1 [==============================] - 0s 92ms/step\n",
            "Prediction: Did not Click on Ad\n"
          ]
        },
        {
          "output_type": "stream",
          "name": "stderr",
          "text": [
            "/usr/local/lib/python3.10/dist-packages/sklearn/base.py:439: UserWarning: X does not have valid feature names, but StandardScaler was fitted with feature names\n",
            "  warnings.warn(\n"
          ]
        }
      ]
    },
    {
      "cell_type": "markdown",
      "source": [
        "COMPARISON"
      ],
      "metadata": {
        "id": "UVUze17wP402"
      }
    },
    {
      "cell_type": "code",
      "source": [
        "from sklearn.model_selection import train_test_split\n",
        "from sklearn.preprocessing import StandardScaler\n",
        "from sklearn.linear_model import LogisticRegression\n",
        "from sklearn.ensemble import RandomForestClassifier, GradientBoostingClassifier\n",
        "from sklearn.metrics import accuracy_score\n",
        "\n",
        "# Assuming df is already defined and contains the data\n",
        "# Split the data into features and target\n",
        "X = df.drop('Clicked on Ad', axis=1)\n",
        "y = df['Clicked on Ad']\n",
        "\n",
        "# Split the data into training and testing sets\n",
        "X_train, X_test, y_train, y_test = train_test_split(X, y, test_size=0.2, random_state=42)\n",
        "\n",
        "# Scale the features\n",
        "scaler = StandardScaler()\n",
        "X_train_scaled = scaler.fit_transform(X_train)\n",
        "X_test_scaled = scaler.transform(X_test)\n",
        "\n",
        "# Initialize the models\n",
        "log_reg = LogisticRegression(random_state=42)\n",
        "rf_clf = RandomForestClassifier(random_state=42)\n",
        "gb_clf = GradientBoostingClassifier(random_state=42)\n",
        "\n",
        "# Train and evaluate Logistic Regression\n",
        "log_reg.fit(X_train_scaled, y_train)\n",
        "y_pred_log_reg = log_reg.predict(X_test_scaled)\n",
        "accuracy_log_reg = accuracy_score(y_test, y_pred_log_reg)\n",
        "print(f'Logistic Regression Accuracy: {accuracy_log_reg:.4f}')\n",
        "\n",
        "# Train and evaluate Random Forest\n",
        "rf_clf.fit(X_train_scaled, y_train)\n",
        "y_pred_rf_clf = rf_clf.predict(X_test_scaled)\n",
        "accuracy_rf_clf = accuracy_score(y_test, y_pred_rf_clf)\n",
        "print(f'Random Forest Classifier Accuracy: {accuracy_rf_clf:.4f}')\n",
        "\n",
        "# Train and evaluate Gradient Boosting\n",
        "gb_clf.fit(X_train_scaled, y_train)\n",
        "y_pred_gb_clf = gb_clf.predict(X_test_scaled)\n",
        "accuracy_gb_clf = accuracy_score(y_test, y_pred_gb_clf)\n",
        "print(f'Gradient Boosting Classifier Accuracy: {accuracy_gb_clf:.4f}')\n"
      ],
      "metadata": {
        "colab": {
          "base_uri": "https://localhost:8080/"
        },
        "id": "v_O2B0PPP9HR",
        "outputId": "5b93b23b-e4f8-4ee3-91c1-5418153e6956"
      },
      "execution_count": 11,
      "outputs": [
        {
          "output_type": "stream",
          "name": "stdout",
          "text": [
            "Logistic Regression Accuracy: 0.9500\n",
            "Random Forest Classifier Accuracy: 0.9300\n",
            "Gradient Boosting Classifier Accuracy: 0.9350\n"
          ]
        }
      ]
    },
    {
      "cell_type": "code",
      "source": [
        "import matplotlib.pyplot as plt\n",
        "import seaborn as sns\n",
        "\n",
        "# Model names\n",
        "models = ['Logistic Regression', 'Random Forest Classifier', 'Gradient Boosting Classifier', 'Neural Network']\n",
        "\n",
        "# Accuracy scores\n",
        "accuracies = [0.9500, 0.9300, 0.9350, 0.9450]\n",
        "\n",
        "# Create a bar plot\n",
        "plt.figure(figsize=(10, 6))\n",
        "sns.barplot(x=models, y=accuracies, palette='viridis')\n",
        "\n",
        "# Add title and labels\n",
        "plt.title('Model Comparison: Accuracy Scores', fontsize=16)\n",
        "plt.xlabel('Models', fontsize=14)\n",
        "plt.ylabel('Accuracy', fontsize=14)\n",
        "\n",
        "# Show accuracy scores on the bars\n",
        "for i in range(len(models)):\n",
        "    plt.text(i, accuracies[i] + 0.002, f\"{accuracies[i]:.4f}\", ha='center', va='bottom', fontsize=12)\n",
        "\n",
        "# Display the plot\n",
        "plt.ylim(0.9, 1.0)  # Set y-axis limit for better visualization\n",
        "plt.show()\n"
      ],
      "metadata": {
        "id": "d-lTCkMCR1fV",
        "outputId": "0e9aa540-e0cb-4601-e3a5-3e86249d820f",
        "colab": {
          "base_uri": "https://localhost:8080/",
          "height": 662
        }
      },
      "execution_count": 12,
      "outputs": [
        {
          "output_type": "stream",
          "name": "stderr",
          "text": [
            "<ipython-input-12-3d54c341b834>:12: FutureWarning: \n",
            "\n",
            "Passing `palette` without assigning `hue` is deprecated and will be removed in v0.14.0. Assign the `x` variable to `hue` and set `legend=False` for the same effect.\n",
            "\n",
            "  sns.barplot(x=models, y=accuracies, palette='viridis')\n"
          ]
        },
        {
          "output_type": "display_data",
          "data": {
            "text/plain": [
              "<Figure size 1000x600 with 1 Axes>"
            ],
            "image/png": "[encoded data removed]"
          },
          "metadata": {}
        }
      ]
    },
    {
      "cell_type": "markdown",
      "source": [
        "CONTENT BASED RECOMMENDATION"
      ],
      "metadata": {
        "id": "zzxS8EkobQH2"
      }
    },
    {
      "cell_type": "code",
      "source": [
        "import pandas as pd\n",
        "from sklearn.feature_extraction.text import TfidfVectorizer\n",
        "from sklearn.metrics.pairwise import linear_kernel\n",
        "\n",
        "# Load data from CSV\n",
        "df = pd.read_csv('/content/advertising.csv')\n",
        "\n",
        "# Ensure that the 'Ad Topic Line' column is treated as text\n",
        "df['Ad Topic Line'] = df['Ad Topic Line'].astype(str)\n",
        "\n",
        "# TF-IDF Vectorizer for 'Ad Topic Line'\n",
        "tfidf = TfidfVectorizer(stop_words='english')\n",
        "tfidf_matrix = tfidf.fit_transform(df['Ad Topic Line'])\n",
        "\n",
        "# Compute cosine similarity matrix\n",
        "cosine_sim = linear_kernel(tfidf_matrix, tfidf_matrix)\n",
        "\n",
        "# Function to get recommendations based on 'Ad Topic Line'\n",
        "def get_recommendations(ad_topic_line, cosine_sim=cosine_sim):\n",
        "    idx = df[df['Ad Topic Line'] == ad_topic_line].index[0]\n",
        "    sim_scores = list(enumerate(cosine_sim[idx]))\n",
        "    sim_scores = sorted(sim_scores, key=lambda x: x[1], reverse=True)\n",
        "    sim_scores = sim_scores[1:6]\n",
        "    ad_indices = [i[0] for i in sim_scores]\n",
        "    return df['Ad Topic Line'].iloc[ad_indices]\n",
        "\n",
        "# Example: Get recommendations for a specific 'Ad Topic Line'\n",
        "print(get_recommendations('Cloned 5thgeneration orchestration'))\n"
      ],
      "metadata": {
        "colab": {
          "base_uri": "https://localhost:8080/"
        },
        "id": "GxZLnUA4azdF",
        "outputId": "c9c332a0-8426-408c-af85-26e17d813c9d"
      },
      "execution_count": 14,
      "outputs": [
        {
          "output_type": "stream",
          "name": "stdout",
          "text": [
            "683    Quality-focused 5thgeneration orchestration\n",
            "712                      Cloned dedicated analyzer\n",
            "405                     Cloned explicit middleware\n",
            "374                    Cloned incremental matrices\n",
            "772                        Cloned optimal leverage\n",
            "Name: Ad Topic Line, dtype: object\n"
          ]
        }
      ]
    },
    {
      "cell_type": "markdown",
      "source": [
        "It is recommending similar Ad Topic Line entries based on text similarity.\n",
        "The recommendations are derived from the content (text) of the Ad Topic Line using TF-IDF vectorization and cosine similarity."
      ],
      "metadata": {
        "id": "rYe9MaAobeEC"
      }
    },
    {
      "cell_type": "code",
      "source": [
        "import pandas as pd\n",
        "from sklearn.feature_extraction.text import TfidfVectorizer\n",
        "from sklearn.metrics.pairwise import linear_kernel\n",
        "from datetime import datetime\n",
        "from sklearn.preprocessing import MinMaxScaler\n",
        "import numpy as np\n",
        "\n",
        "# Load data from CSV\n",
        "df = pd.read_csv('/content/advertising.csv')\n",
        "\n",
        "\n",
        "# Convert 'Timestamp' to datetime and then to a numerical format\n",
        "df['Timestamp'] = pd.to_datetime(df['Timestamp'])\n",
        "df['Timestamp'] = df['Timestamp'].apply(lambda x: x.timestamp())\n",
        "\n",
        "# Normalize the Timestamp\n",
        "scaler = MinMaxScaler()\n",
        "df['Timestamp'] = scaler.fit_transform(df[['Timestamp']])\n",
        "\n",
        "# Combine textual features into a single column\n",
        "df['text_features'] = df['Ad Topic Line'] + ' ' + df['City'] + ' ' + df['Country']\n",
        "\n",
        "# TF-IDF Vectorizer for 'text_features'\n",
        "tfidf = TfidfVectorizer(stop_words='english')\n",
        "tfidf_matrix = tfidf.fit_transform(df['text_features'])\n",
        "\n",
        "# Combine TF-IDF matrix with Timestamp\n",
        "combined_features = np.hstack((tfidf_matrix.toarray(), df[['Timestamp']].values))\n",
        "\n",
        "# Compute cosine similarity matrix\n",
        "cosine_sim = linear_kernel(combined_features, combined_features)\n",
        "\n",
        "# Function to get recommendations based on 'Timestamp'\n",
        "def get_recommendations(timestamp, cosine_sim=cosine_sim):\n",
        "    idx = df[df['Timestamp'] == timestamp].index[0]\n",
        "    sim_scores = list(enumerate(cosine_sim[idx]))\n",
        "    sim_scores = sorted(sim_scores, key=lambda x: x[1], reverse=True)\n",
        "    sim_scores = sim_scores[1:6]\n",
        "    ad_indices = [i[0] for i in sim_scores]\n",
        "    return df.iloc[ad_indices]\n",
        "\n",
        "# Example: Get recommendations for a specific 'Timestamp'\n",
        "timestamp_value = df[df['Ad Topic Line'] == 'Cloned 5thgeneration orchestration']['Timestamp'].values[0]\n",
        "recommendations = get_recommendations(timestamp_value)\n",
        "\n",
        "print(recommendations[['Ad Topic Line', 'City', 'Country']])\n"
      ],
      "metadata": {
        "colab": {
          "base_uri": "https://localhost:8080/"
        },
        "id": "gsfsOe23bgPq",
        "outputId": "fdd9beb9-011e-4d97-f486-ca95c7048686"
      },
      "execution_count": 17,
      "outputs": [
        {
          "output_type": "stream",
          "name": "stdout",
          "text": [
            "                                  Ad Topic Line              City  \\\n",
            "704       Distributed leadingedge orchestration        Lesliefort   \n",
            "901               Sharable 5thgeneration access      Fraziershire   \n",
            "193    Cloned analyzing artificial intelligence  South Tiffanyton   \n",
            "362  Configurable tertiary budgetary management       Wrightburgh   \n",
            "848            Phased 5thgeneration open system       Sabrinaview   \n",
            "\n",
            "                       Country  \n",
            "704                      Malta  \n",
            "901                    Burundi  \n",
            "193  Bouvet Island (Bouvetoya)  \n",
            "362                    Albania  \n",
            "848             Cayman Islands  \n"
          ]
        }
      ]
    },
    {
      "cell_type": "code",
      "source": [
        "import pandas as pd\n",
        "from sklearn.model_selection import train_test_split\n",
        "from sklearn.ensemble import RandomForestClassifier\n",
        "from sklearn.metrics import accuracy_score, classification_report, confusion_matrix\n",
        "\n",
        "# 1. Load Data\n",
        "df = pd.read_csv('/content/advertising.csv')\n",
        "\n",
        "# Display the first few rows of the dataframe\n",
        "print(df.head())\n",
        "\n",
        "# 2. Preprocess Data\n",
        "# Check for missing values\n",
        "print(df.isnull().sum())\n",
        "\n",
        "# Define the feature set and target variable\n",
        "X = df[['Daily Time Spent on Site', 'Age', 'Area Income', 'Daily Internet Usage', 'Male']]\n",
        "y = df['Clicked on Ad']\n",
        "\n",
        "# 3. Feature Engineering\n",
        "# (In this case, no additional feature engineering is done, but you can add more features if needed)\n",
        "\n",
        "# 4. Model Selection\n",
        "# Split the data into training and testing sets\n",
        "X_train, X_test, y_train, y_test = train_test_split(X, y, test_size=0.2, random_state=42)\n",
        "\n",
        "# Initialize the model\n",
        "model = RandomForestClassifier(random_state=42)\n",
        "\n",
        "# 5. Model Training\n",
        "# Train the model\n",
        "model.fit(X_train, y_train)\n",
        "\n",
        "# 6. Model Evaluation\n",
        "# Make predictions on the test set\n",
        "y_pred = model.predict(X_test)\n",
        "\n",
        "# Evaluate the model\n",
        "accuracy = accuracy_score(y_test, y_pred)\n",
        "print(f'Accuracy: {accuracy:.2f}')\n",
        "\n",
        "# Print the classification report\n",
        "print(classification_report(y_test, y_pred))\n",
        "\n",
        "# Print the confusion matrix\n",
        "print(confusion_matrix(y_test, y_pred))\n",
        "\n",
        "# 7. Make Predictions\n",
        "# Example input for prediction\n",
        "new_data = [[59.99, 23, 59761.56, 226.74, 1]]\n",
        "\n",
        "# Predict whether the ad will be clicked\n",
        "prediction = model.predict(new_data)\n",
        "print(f'Prediction: {\"Ad will be clicked\" if prediction[0] == 1 else \"Ad will not be clicked\"}')\n",
        "\n",
        "# 8. Recommendation Logic\n",
        "def recommend(user_data):\n",
        "    prediction = model.predict([user_data])\n",
        "    if prediction[0] == 1:\n",
        "        return \"We recommend showing this user more ads similar to the current one.\"\n",
        "    else:\n",
        "        return \"We recommend showing this user different types of ads.\"\n",
        "\n",
        "# Test the recommendation logic\n",
        "user_data = [59.99, 23, 59761.56, 226.74, 1]\n",
        "recommendation = recommend(user_data)\n",
        "print(recommendation)\n"
      ],
      "metadata": {
        "colab": {
          "base_uri": "https://localhost:8080/"
        },
        "id": "t7cSRiTHS5Uo",
        "outputId": "b259243b-3d83-4bd6-c574-56a43c6a657b"
      },
      "execution_count": 19,
      "outputs": [
        {
          "output_type": "stream",
          "name": "stdout",
          "text": [
            "   Daily Time Spent on Site  Age  Area Income  Daily Internet Usage  \\\n",
            "0                     68.95   35     61833.90                256.09   \n",
            "1                     80.23   31     68441.85                193.77   \n",
            "2                     69.47   26     59785.94                236.50   \n",
            "3                     74.15   29     54806.18                245.89   \n",
            "4                     68.37   35     73889.99                225.58   \n",
            "\n",
            "                           Ad Topic Line            City  Male     Country  \\\n",
            "0     Cloned 5thgeneration orchestration     Wrightburgh     0     Tunisia   \n",
            "1     Monitored national standardization       West Jodi     1       Nauru   \n",
            "2       Organic bottom-line service-desk        Davidton     0  San Marino   \n",
            "3  Triple-buffered reciprocal time-frame  West Terrifurt     1       Italy   \n",
            "4          Robust logistical utilization    South Manuel     0     Iceland   \n",
            "\n",
            "             Timestamp  Clicked on Ad  \n",
            "0  2016-03-27 00:53:11              0  \n",
            "1  2016-04-04 01:39:02              0  \n",
            "2  2016-03-13 20:35:42              0  \n",
            "3  2016-01-10 02:31:19              0  \n",
            "4  2016-06-03 03:36:18              0  \n",
            "Daily Time Spent on Site    0\n",
            "Age                         0\n",
            "Area Income                 0\n",
            "Daily Internet Usage        0\n",
            "Ad Topic Line               0\n",
            "City                        0\n",
            "Male                        0\n",
            "Country                     0\n",
            "Timestamp                   0\n",
            "Clicked on Ad               0\n",
            "dtype: int64\n",
            "Accuracy: 0.93\n",
            "              precision    recall  f1-score   support\n",
            "\n",
            "           0       0.91      0.93      0.92        89\n",
            "           1       0.94      0.93      0.94       111\n",
            "\n",
            "    accuracy                           0.93       200\n",
            "   macro avg       0.93      0.93      0.93       200\n",
            "weighted avg       0.93      0.93      0.93       200\n",
            "\n",
            "[[ 83   6]\n",
            " [  8 103]]\n",
            "Prediction: Ad will not be clicked\n",
            "We recommend showing this user different types of ads.\n"
          ]
        },
        {
          "output_type": "stream",
          "name": "stderr",
          "text": [
            "/usr/local/lib/python3.10/dist-packages/sklearn/base.py:439: UserWarning: X does not have valid feature names, but RandomForestClassifier was fitted with feature names\n",
            "  warnings.warn(\n",
            "/usr/local/lib/python3.10/dist-packages/sklearn/base.py:439: UserWarning: X does not have valid feature names, but RandomForestClassifier was fitted with feature names\n",
            "  warnings.warn(\n"
          ]
        }
      ]
    },
    {
      "cell_type": "markdown",
      "source": [
        "Type of System Used\n",
        "Classification-Based Recommender System: This model predicts a binary outcome (click or not click) based on user attributes and behavior. Here, a RandomForestClassifier is used for the prediction task.\n",
        "\n",
        "\n",
        "How it Works\n",
        "\n",
        "Input Data: Contextual features such as 'Daily Time Spent on Site', 'Age', 'Area Income', 'Daily Internet Usage', and 'Gender'.\n",
        "\n",
        "Model Training: The RandomForestClassifier is trained on historical data where the target variable is whether the user clicked on an ad.\n",
        "\n",
        "Prediction: For new user data, the trained model predicts whether the user is likely to click on the ad.\n",
        "\n",
        "Recommendation Logic: Based on the prediction, the system makes a recommendation on the type of ads to show to the user.\n",
        "\n",
        "Recommendation Logic\n",
        "\n",
        "If the prediction is positive (the user is likely to click on the ad), the recommendation might be to show more ads similar to the current one.\n",
        "\n",
        "If the prediction is negative (the user is not likely to click on the ad), the recommendation might be to show different types of ads."
      ],
      "metadata": {
        "id": "CChG6K0FTCrc"
      }
    }
  ]
}
